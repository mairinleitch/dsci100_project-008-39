{
 "cells": [
  {
   "cell_type": "code",
   "execution_count": 7,
   "id": "e23b763e",
   "metadata": {
    "tags": []
   },
   "outputs": [
    {
     "name": "stderr",
     "output_type": "stream",
     "text": [
      "\u001b[1mRows: \u001b[22m\u001b[34m294\u001b[39m \u001b[1mColumns: \u001b[22m\u001b[34m14\u001b[39m\n",
      "\u001b[36m──\u001b[39m \u001b[1mColumn specification\u001b[22m \u001b[36m────────────────────────────────────────────────────────\u001b[39m\n",
      "\u001b[1mDelimiter:\u001b[22m \",\"\n",
      "\u001b[31mchr\u001b[39m (9): X4, X5, X6, X7, X8, X9, X11, X12, X13\n",
      "\u001b[32mdbl\u001b[39m (5): X1, X2, X3, X10, X14\n",
      "\n",
      "\u001b[36mℹ\u001b[39m Use `spec()` to retrieve the full column specification for this data.\n",
      "\u001b[36mℹ\u001b[39m Specify the column types or set `show_col_types = FALSE` to quiet this message.\n"
     ]
    },
    {
     "ename": "ERROR",
     "evalue": "\u001b[1m\u001b[33mError\u001b[39m in `select()`:\u001b[22m\n\u001b[33m!\u001b[39m Can't subset columns that don't exist.\n\u001b[31m✖\u001b[39m Column `trestbsp` doesn't exist.\n",
     "output_type": "error",
     "traceback": [
      "\u001b[1m\u001b[33mError\u001b[39m in `select()`:\u001b[22m\n\u001b[33m!\u001b[39m Can't subset columns that don't exist.\n\u001b[31m✖\u001b[39m Column `trestbsp` doesn't exist.\nTraceback:\n",
      "1. select(heart, age, cp, chol, restecg, trestbsp, num_predicted)",
      "2. select.data.frame(heart, age, cp, chol, restecg, trestbsp, num_predicted)",
      "3. tidyselect::eval_select(expr(c(...)), data = .data, error_call = error_call)",
      "4. eval_select_impl(data, names(data), as_quosure(expr, env), include = include, \n .     exclude = exclude, strict = strict, name_spec = name_spec, \n .     allow_rename = allow_rename, allow_empty = allow_empty, allow_predicates = allow_predicates, \n .     error_call = error_call, )",
      "5. with_subscript_errors(out <- vars_select_eval(vars, expr, strict = strict, \n .     data = x, name_spec = name_spec, uniquely_named = uniquely_named, \n .     allow_rename = allow_rename, allow_empty = allow_empty, allow_predicates = allow_predicates, \n .     type = type, error_call = error_call), type = type)",
      "6. try_fetch(expr, vctrs_error_subscript = function(cnd) {\n .     cnd$subscript_action <- subscript_action(type)\n .     cnd$subscript_elt <- \"column\"\n .     cnd_signal(cnd)\n . })",
      "7. withCallingHandlers(expr, condition = function(cnd) {\n .     {\n .         .__handler_frame__. <- TRUE\n .         .__setup_frame__. <- frame\n .         if (inherits(cnd, \"message\")) {\n .             except <- c(\"warning\", \"error\")\n .         }\n .         else if (inherits(cnd, \"warning\")) {\n .             except <- \"error\"\n .         }\n .         else {\n .             except <- \"\"\n .         }\n .     }\n .     while (!is_null(cnd)) {\n .         if (inherits(cnd, \"vctrs_error_subscript\")) {\n .             out <- handlers[[1L]](cnd)\n .             if (!inherits(out, \"rlang_zap\")) \n .                 throw(out)\n .         }\n .         inherit <- .subset2(.subset2(cnd, \"rlang\"), \"inherit\")\n .         if (is_false(inherit)) {\n .             return()\n .         }\n .         cnd <- .subset2(cnd, \"parent\")\n .     }\n . })",
      "8. vars_select_eval(vars, expr, strict = strict, data = x, name_spec = name_spec, \n .     uniquely_named = uniquely_named, allow_rename = allow_rename, \n .     allow_empty = allow_empty, allow_predicates = allow_predicates, \n .     type = type, error_call = error_call)",
      "9. walk_data_tree(expr, data_mask, context_mask)",
      "10. eval_c(expr, data_mask, context_mask)",
      "11. reduce_sels(node, data_mask, context_mask, init = init)",
      "12. walk_data_tree(new, data_mask, context_mask)",
      "13. as_indices_sel_impl(out, vars = vars, strict = strict, data = data, \n  .     allow_predicates = allow_predicates, call = error_call, arg = as_label(expr))",
      "14. as_indices_impl(x, vars, call = call, arg = arg, strict = strict)",
      "15. chr_as_locations(x, vars, call = call, arg = arg)",
      "16. vctrs::vec_as_location(x, n = length(vars), names = vars, call = call, \n  .     arg = arg)",
      "17. (function () \n  . stop_subscript_oob(i = i, subscript_type = subscript_type, names = names, \n  .     subscript_action = subscript_action, subscript_arg = subscript_arg, \n  .     call = call))()",
      "18. stop_subscript_oob(i = i, subscript_type = subscript_type, names = names, \n  .     subscript_action = subscript_action, subscript_arg = subscript_arg, \n  .     call = call)",
      "19. stop_subscript(class = \"vctrs_error_subscript_oob\", i = i, subscript_type = subscript_type, \n  .     ..., call = call)",
      "20. abort(class = c(class, \"vctrs_error_subscript\"), i = i, ..., \n  .     call = call)",
      "21. signal_abort(cnd, .file)",
      "22. signalCondition(cnd)",
      "23. (function (cnd) \n  . {\n  .     {\n  .         .__handler_frame__. <- TRUE\n  .         .__setup_frame__. <- frame\n  .         if (inherits(cnd, \"message\")) {\n  .             except <- c(\"warning\", \"error\")\n  .         }\n  .         else if (inherits(cnd, \"warning\")) {\n  .             except <- \"error\"\n  .         }\n  .         else {\n  .             except <- \"\"\n  .         }\n  .     }\n  .     while (!is_null(cnd)) {\n  .         if (inherits(cnd, \"vctrs_error_subscript\")) {\n  .             out <- handlers[[1L]](cnd)\n  .             if (!inherits(out, \"rlang_zap\")) \n  .                 throw(out)\n  .         }\n  .         inherit <- .subset2(.subset2(cnd, \"rlang\"), \"inherit\")\n  .         if (is_false(inherit)) {\n  .             return()\n  .         }\n  .         cnd <- .subset2(cnd, \"parent\")\n  .     }\n  . })(structure(list(message = \"\", trace = structure(list(call = list(\n  .     IRkernel::main(), kernel$run(), handle_shell(), executor$execute(msg), \n  .     tryCatch(evaluate(request$content$code, envir = .GlobalEnv, \n  .         output_handler = oh, stop_on_error = 1L), interrupt = function(cond) {\n  .         log_debug(\"Interrupt during execution\")\n  .         interrupted <<- TRUE\n  .     }, error = .self$handle_error), tryCatchList(expr, classes, \n  .         parentenv, handlers), tryCatchOne(tryCatchList(expr, \n  .         names[-nh], parentenv, handlers[-nh]), names[nh], parentenv, \n  .         handlers[[nh]]), doTryCatch(return(expr), name, parentenv, \n  .         handler), tryCatchList(expr, names[-nh], parentenv, handlers[-nh]), \n  .     tryCatchOne(expr, names, parentenv, handlers[[1L]]), doTryCatch(return(expr), \n  .         name, parentenv, handler), evaluate(request$content$code, \n  .         envir = .GlobalEnv, output_handler = oh, stop_on_error = 1L), \n  .     evaluate_call(expr, parsed$src[[i]], envir = envir, enclos = enclos, \n  .         debug = debug, last = i == length(out), use_try = stop_on_error != \n  .             2L, keep_warning = keep_warning, keep_message = keep_message, \n  .         output_handler = output_handler, include_timing = include_timing), \n  .     timing_fn(handle(ev <- withCallingHandlers(withVisible(eval_with_user_handlers(expr, \n  .         envir, enclos, user_handlers)), warning = wHandler, error = eHandler, \n  .         message = mHandler))), handle(ev <- withCallingHandlers(withVisible(eval_with_user_handlers(expr, \n  .         envir, enclos, user_handlers)), warning = wHandler, error = eHandler, \n  .         message = mHandler)), try(f, silent = TRUE), tryCatch(expr, \n  .         error = function(e) {\n  .             call <- conditionCall(e)\n  .             if (!is.null(call)) {\n  .                 if (identical(call[[1L]], quote(doTryCatch))) \n  .                   call <- sys.call(-4L)\n  .                 dcall <- deparse(call, nlines = 1L)\n  .                 prefix <- paste(\"Error in\", dcall, \": \")\n  .                 LONG <- 75L\n  .                 sm <- strsplit(conditionMessage(e), \"\\n\")[[1L]]\n  .                 w <- 14L + nchar(dcall, type = \"w\") + nchar(sm[1L], \n  .                   type = \"w\")\n  .                 if (is.na(w)) \n  .                   w <- 14L + nchar(dcall, type = \"b\") + nchar(sm[1L], \n  .                     type = \"b\")\n  .                 if (w > LONG) \n  .                   prefix <- paste0(prefix, \"\\n  \")\n  .             }\n  .             else prefix <- \"Error : \"\n  .             msg <- paste0(prefix, conditionMessage(e), \"\\n\")\n  .             .Internal(seterrmessage(msg[1L]))\n  .             if (!silent && isTRUE(getOption(\"show.error.messages\"))) {\n  .                 cat(msg, file = outFile)\n  .                 .Internal(printDeferredWarnings())\n  .             }\n  .             invisible(structure(msg, class = \"try-error\", condition = e))\n  .         }), tryCatchList(expr, classes, parentenv, handlers), \n  .     tryCatchOne(expr, names, parentenv, handlers[[1L]]), doTryCatch(return(expr), \n  .         name, parentenv, handler), withCallingHandlers(withVisible(eval_with_user_handlers(expr, \n  .         envir, enclos, user_handlers)), warning = wHandler, error = eHandler, \n  .         message = mHandler), withVisible(eval_with_user_handlers(expr, \n  .         envir, enclos, user_handlers)), eval_with_user_handlers(expr, \n  .         envir, enclos, user_handlers), eval(expr, envir, enclos), \n  .     eval(expr, envir, enclos), select(heart, age, cp, chol, restecg, \n  .         trestbsp, num_predicted), select.data.frame(heart, age, \n  .         cp, chol, restecg, trestbsp, num_predicted), tidyselect::eval_select(expr(c(...)), \n  .         data = .data, error_call = error_call), eval_select_impl(data, \n  .         names(data), as_quosure(expr, env), include = include, \n  .         exclude = exclude, strict = strict, name_spec = name_spec, \n  .         allow_rename = allow_rename, allow_empty = allow_empty, \n  .         allow_predicates = allow_predicates, error_call = error_call, \n  .         ), with_subscript_errors(out <- vars_select_eval(vars, \n  .         expr, strict = strict, data = x, name_spec = name_spec, \n  .         uniquely_named = uniquely_named, allow_rename = allow_rename, \n  .         allow_empty = allow_empty, allow_predicates = allow_predicates, \n  .         type = type, error_call = error_call), type = type), \n  .     try_fetch(expr, vctrs_error_subscript = function(cnd) {\n  .         cnd$subscript_action <- subscript_action(type)\n  .         cnd$subscript_elt <- \"column\"\n  .         cnd_signal(cnd)\n  .     }), withCallingHandlers(expr, condition = function(cnd) {\n  .         {\n  .             .__handler_frame__. <- TRUE\n  .             .__setup_frame__. <- frame\n  .             if (inherits(cnd, \"message\")) {\n  .                 except <- c(\"warning\", \"error\")\n  .             }\n  .             else if (inherits(cnd, \"warning\")) {\n  .                 except <- \"error\"\n  .             }\n  .             else {\n  .                 except <- \"\"\n  .             }\n  .         }\n  .         while (!is_null(cnd)) {\n  .             if (inherits(cnd, \"vctrs_error_subscript\")) {\n  .                 out <- handlers[[1L]](cnd)\n  .                 if (!inherits(out, \"rlang_zap\")) \n  .                   throw(out)\n  .             }\n  .             inherit <- .subset2(.subset2(cnd, \"rlang\"), \"inherit\")\n  .             if (is_false(inherit)) {\n  .                 return()\n  .             }\n  .             cnd <- .subset2(cnd, \"parent\")\n  .         }\n  .     }), vars_select_eval(vars, expr, strict = strict, data = x, \n  .         name_spec = name_spec, uniquely_named = uniquely_named, \n  .         allow_rename = allow_rename, allow_empty = allow_empty, \n  .         allow_predicates = allow_predicates, type = type, error_call = error_call), \n  .     walk_data_tree(expr, data_mask, context_mask), eval_c(expr, \n  .         data_mask, context_mask), reduce_sels(node, data_mask, \n  .         context_mask, init = init), walk_data_tree(new, data_mask, \n  .         context_mask), as_indices_sel_impl(out, vars = vars, \n  .         strict = strict, data = data, allow_predicates = allow_predicates, \n  .         call = error_call, arg = as_label(expr)), as_indices_impl(x, \n  .         vars, call = call, arg = arg, strict = strict), chr_as_locations(x, \n  .         vars, call = call, arg = arg), vctrs::vec_as_location(x, \n  .         n = length(vars), names = vars, call = call, arg = arg), \n  .     `<fn>`(), stop_subscript_oob(i = i, subscript_type = subscript_type, \n  .         names = names, subscript_action = subscript_action, subscript_arg = subscript_arg, \n  .         call = call), stop_subscript(class = \"vctrs_error_subscript_oob\", \n  .         i = i, subscript_type = subscript_type, ..., call = call), \n  .     abort(class = c(class, \"vctrs_error_subscript\"), i = i, ..., \n  .         call = call)), parent = c(0L, 1L, 2L, 3L, 4L, 5L, 6L, \n  . 7L, 6L, 9L, 10L, 4L, 12L, 13L, 13L, 15L, 16L, 17L, 18L, 19L, \n  . 13L, 13L, 13L, 23L, 24L, 0L, 0L, 27L, 28L, 29L, 30L, 31L, 29L, \n  . 33L, 34L, 35L, 36L, 37L, 38L, 39L, 40L, 0L, 42L, 43L, 44L), visible = c(TRUE, \n  . TRUE, TRUE, TRUE, TRUE, TRUE, TRUE, TRUE, TRUE, TRUE, TRUE, TRUE, \n  . TRUE, TRUE, TRUE, TRUE, TRUE, TRUE, TRUE, TRUE, TRUE, TRUE, TRUE, \n  . TRUE, TRUE, TRUE, TRUE, FALSE, FALSE, FALSE, FALSE, FALSE, FALSE, \n  . FALSE, FALSE, FALSE, FALSE, FALSE, FALSE, FALSE, FALSE, FALSE, \n  . FALSE, FALSE, FALSE), namespace = c(\"IRkernel\", NA, \"IRkernel\", \n  . NA, \"base\", \"base\", \"base\", \"base\", \"base\", \"base\", \"base\", \"evaluate\", \n  . \"evaluate\", \"evaluate\", \"evaluate\", \"base\", \"base\", \"base\", \"base\", \n  . \"base\", \"base\", \"base\", \"evaluate\", \"base\", \"base\", \"dplyr\", \n  . \"dplyr\", \"tidyselect\", \"tidyselect\", \"tidyselect\", \"rlang\", \"base\", \n  . \"tidyselect\", \"tidyselect\", \"tidyselect\", \"tidyselect\", \"tidyselect\", \n  . \"tidyselect\", \"tidyselect\", \"tidyselect\", \"vctrs\", \"vctrs\", \"vctrs\", \n  . \"vctrs\", \"rlang\"), scope = c(\"::\", NA, \"local\", NA, \"::\", \"local\", \n  . \"local\", \"local\", \"local\", \"local\", \"local\", \"::\", \":::\", \"local\", \n  . \"local\", \"::\", \"::\", \"local\", \"local\", \"local\", \"::\", \"::\", \":::\", \n  . \"::\", \"::\", \"::\", \":::\", \"::\", \":::\", \":::\", \"::\", \"::\", \":::\", \n  . \":::\", \":::\", \":::\", \":::\", \":::\", \":::\", \":::\", \"::\", \"local\", \n  . \":::\", \":::\", \"::\"), error_frame = c(FALSE, FALSE, FALSE, FALSE, \n  . FALSE, FALSE, FALSE, FALSE, FALSE, FALSE, FALSE, FALSE, FALSE, \n  . FALSE, FALSE, FALSE, FALSE, FALSE, FALSE, FALSE, FALSE, FALSE, \n  . FALSE, FALSE, FALSE, FALSE, TRUE, FALSE, FALSE, FALSE, FALSE, \n  . FALSE, FALSE, FALSE, FALSE, FALSE, FALSE, FALSE, FALSE, FALSE, \n  . FALSE, FALSE, FALSE, FALSE, FALSE)), row.names = c(NA, -45L), version = 2L, class = c(\"rlang_trace\", \n  . \"rlib_trace\", \"tbl\", \"data.frame\")), parent = NULL, i = \"trestbsp\", \n  .     subscript_type = \"character\", names = c(\"age\", \"sex\", \"cp\", \n  .     \"trestbps\", \"chol\", \"fbs\", \"restecg\", \"thalach\", \"exang\", \n  .     \"oldpeak\", \"slope\", \"ca\", \"thal\", \"num_predicted\"), subscript_action = NULL, \n  .     subscript_arg = \"trestbsp\", rlang = list(inherit = TRUE), \n  .     call = select(heart, age, cp, chol, restecg, trestbsp, num_predicted)), class = c(\"vctrs_error_subscript_oob\", \n  . \"vctrs_error_subscript\", \"rlang_error\", \"error\", \"condition\")))",
      "24. handlers[[1L]](cnd)",
      "25. cnd_signal(cnd)",
      "26. signal_abort(cnd)"
     ]
    }
   ],
   "source": [
    "library(tidyverse)\n",
    "library(tidymodels)\n",
    "\n",
    "URL <- \"https://archive.ics.uci.edu/ml/machine-learning-databases/heart-disease/processed.hungarian.data\"\n",
    "heart <- read_delim(URL, delim = \",\", col_names = FALSE) |>\n",
    "        rename(age = X1, sex = X2, cp = X3, trestbps = X4, chol = X5, fbs = X6, restecg = X7, thalach = X8, exang = X9,\n",
    "               oldpeak = X10, slope = X11, ca = X12, thal = X13, num_predicted = X14)\n",
    "\n",
    "heart_data <- heart |>\n",
    "    select(age, cp, chol, restecg, trestbsp, num_predicted)\n",
    "#split data into training and testing\n",
    "heart_split <- initial_split(heart_data, prop = 0.75, strata = num_predicted)\n",
    "heart_train <- training(heart_split)\n",
    "heart_test <- testing(heart_split)"
   ]
  },
  {
   "cell_type": "code",
   "execution_count": null,
   "id": "6615b170-8f37-4172-8d50-c765d918a8e8",
   "metadata": {},
   "outputs": [],
   "source": []
  }
 ],
 "metadata": {
  "kernelspec": {
   "display_name": "R",
   "language": "R",
   "name": "ir"
  },
  "language_info": {
   "codemirror_mode": "r",
   "file_extension": ".r",
   "mimetype": "text/x-r-source",
   "name": "R",
   "pygments_lexer": "r",
   "version": "4.2.2"
  }
 },
 "nbformat": 4,
 "nbformat_minor": 5
}
