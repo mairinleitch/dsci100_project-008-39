{
 "cells": [
  {
   "cell_type": "code",
   "execution_count": 2,
   "id": "e23b763e",
   "metadata": {
    "tags": []
   },
   "outputs": [],
   "source": [
    "#split data into training and testing\n",
    "heart_split <- initial_split(heart_data, prop = 0.75, strata = num_predicted)\n",
    "heart_train <- training(heart_split)\n",
    "heart_test <- testing(heart_split)"
   ]
  },
  {
   "cell_type": "code",
   "execution_count": null,
   "id": "11fa3b64",
   "metadata": {},
   "outputs": [],
   "source": []
  }
 ],
 "metadata": {
  "kernelspec": {
   "display_name": "R",
   "language": "R",
   "name": "ir"
  },
  "language_info": {
   "codemirror_mode": "r",
   "file_extension": ".r",
   "mimetype": "text/x-r-source",
   "name": "R",
   "pygments_lexer": "r",
   "version": "4.2.2"
  }
 },
 "nbformat": 4,
 "nbformat_minor": 5
}
