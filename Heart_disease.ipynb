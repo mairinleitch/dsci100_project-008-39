{
 "cells": [
  {
   "cell_type": "markdown",
   "id": "a4e7d3cd-5e82-40b1-8de5-e139abb44a53",
   "metadata": {},
   "source": [
    "## **Diagnosis of Presence of Heart Disease Based on Age, Cholesterol, And Resting Blood Pressure**"
   ]
  },
  {
   "cell_type": "markdown",
   "id": "e141f33e-99b6-4aab-94de-a5d4c50157e3",
   "metadata": {
    "tags": []
   },
   "source": [
    "**Names:** Srijan Sanghera, Sharon Feng, Annie Wang, Mairin Leitch"
   ]
  },
  {
   "cell_type": "markdown",
   "id": "8d4d6f9c-9c73-44ea-936b-5ca49f3a1e1f",
   "metadata": {},
   "source": [
    "### **Introduction**\n",
    "Coronary artery disease (CAD) poses a significant health challenge, marked by the narrowing of coronary arteries, necessitating precise diagnostic tools for timely intervention and treatment (Detrano, et al.,1989). Traditionally, invasive procedures like angiography have been employed for diagnosis, but they come with inherent risks such as arterial injury, stroke, and radiation exposure (Mayo Clinic, 2021). Recognizing the imperative for safer alternatives, there is an increasing interest in non-invasive diagnostic methods that leverage patient demographics and basic clinical information for CAD diagnosis. This data analysis aims to address this need by evaluating the diagnosis of the presence of heart disease using essential parameters: age, cholesterol levels, and resting blood pressure based on the database from the Hungarian Institute of Cardiology. <br> \n",
    "\n",
    "**Research Question:** Will the new patient have heart disease or not based on their age, cholesterol, and resting blood pressure?\n",
    "\n",
    "The dataset used for this report comes from the Hungarian Institute of Cardiology in Budapest. The data consists solely of numerical values. A total of 76 columns of data exist, but only 14 columns are used in the given data tables (Detrano et al., 1989). The 14 available columns are titled ‘age’, ‘sex’, ‘cp’, ‘trestbps’,  ‘chol’, ‘fbs’, ‘restecg’ , ‘thalach’, ‘exang’, ‘oldpeak’, ‘slope’, ‘ca’, ‘thal’, and ‘num’ (Detrano et al., 1989). \n",
    "\n",
    "--------UNFINISHED"
   ]
  },
  {
   "cell_type": "markdown",
   "id": "e6b0f889-06f6-4cb3-86f2-951078983eac",
   "metadata": {},
   "source": [
    "### **Method and Exploratory Analysis**"
   ]
  },
  {
   "cell_type": "markdown",
   "id": "216098b1-8aab-4105-a596-ac42d1652676",
   "metadata": {
    "tags": []
   },
   "source": [
    "**Importing libraries:**\n",
    "- Used library() to install tidyverse, tidymodels, and repr packages.\n",
    "- Used install.packages() to install “kknn” and “yardstick”. \n"
   ]
  },
  {
   "cell_type": "code",
   "execution_count": null,
   "id": "7ff656db-feae-4091-9c57-ed8827acef1c",
   "metadata": {
    "tags": []
   },
   "outputs": [],
   "source": [
    "#import packages:\n",
    "library(tidyverse) \n",
    "library(tidymodels)\n",
    "library(repr)\n",
    "install.packages(\"kknn\")"
   ]
  },
  {
   "cell_type": "markdown",
   "id": "e21a8fd9-b0fe-478b-8041-40ebae668351",
   "metadata": {
    "tags": []
   },
   "source": [
    "**Wrangling Data:**\n",
    "- Loaded and renamed columns of the \"processed.hungary.data\" dataset.\n",
    "- Cleaned and wrangled data: select predictive variables, filter out missing data, and correct data types.\n",
    "- Splitted data into training (75%) and testing (25%) sets.\n",
    "\n"
   ]
  },
  {
   "cell_type": "code",
   "execution_count": null,
   "id": "e23b763e",
   "metadata": {
    "tags": []
   },
   "outputs": [],
   "source": [
    "#loading data in:\n",
    "URL <- \"https://archive.ics.uci.edu/ml/machine-learning-databases/heart-disease/processed.hungarian.data\"\n",
    "heart <- read_delim(URL, delim = \",\", col_names = FALSE) |>\n",
    "        rename(age = X1, sex = X2, cp = X3, trestbps = X4, chol = X5, fbs = X6, restecg = X7, thalach = X8, exang = X9,\n",
    "               oldpeak = X10, slope = X11, ca = X12, thal = X13, num_predicted = X14)\n",
    "\n",
    "#Cleaning and wrangling data:\n",
    "heart_data <- heart |>\n",
    "    select(age, chol, trestbps, num_predicted) |>\n",
    "    filter(chol != \"?\", trestbps != \"?\") |>\n",
    "    mutate(num_predicted = as.factor(num_predicted),\n",
    "           num_predicted = fct_recode(num_predicted, \"present\" = \"1\", \"absent\" = \"0\"),\n",
    "           chol = as.numeric(chol),\n",
    "           trestbps = as.numeric(trestbps))\n",
    "print(\"Table 1. Heart Disease Predictors and Class of Interest\")\n",
    "\n",
    "head(heart_data)\n",
    "#split data into training and testing: \n",
    "set.seed(1111) \n",
    "heart_split <- initial_split(heart_data, prop = 0.75, strata = num_predicted)\n",
    "heart_train <- training(heart_split)\n",
    "heart_test <- testing(heart_split)\n"
   ]
  },
  {
   "cell_type": "markdown",
   "id": "941f2932-b113-4cd8-af8f-64ed014ce307",
   "metadata": {
    "tags": []
   },
   "source": [
    "**Preliminary Exploratory Analysis (summary):**\n",
    "- Use dplyr to summarize training data based on disease presence or absence.\n",
    "- Compute counts and descriptive statistics for age, cholesterol, and blood pressure.\n",
    "- Handle missing data: calculate and display the number of removed missing values.\n"
   ]
  },
  {
   "cell_type": "code",
   "execution_count": null,
   "id": "7dc87acb-2617-482c-aac3-514e2d3c4117",
   "metadata": {
    "tags": []
   },
   "outputs": [],
   "source": [
    "#Summarize:\n",
    "disease_vs_healthy <- heart_train |>\n",
    "    group_by(num_predicted) |>\n",
    "    summarize(count = n(), \n",
    "              min_age = min(age), max_age = max(age), mean_age = mean(age),\n",
    "              min_chol = min(chol), max_chol = max(chol), mean_chol = mean(chol),\n",
    "              min_trestbsp = min(trestbps), max_trestbps = max(trestbps), mean_trestbps = mean(trestbps))\n",
    "print(\"Table 2. Summary of the Training Data Based on Absence or Presence of Disease\")\n",
    "disease_vs_healthy\n",
    "\n",
    "NA_summary <- heart |>\n",
    "    group_by(num_predicted) |>\n",
    "    summarize(total_age_NA_deleted = sum(age == \"?\"),\n",
    "              total_chol_NA_deleted = sum(chol == \"?\"),\n",
    "              total_trestbps_NA_deleted = sum(trestbps == \"?\"))\n",
    "print(\"Table 3. Total Number of NA's Removed From Each Predictor Column (0 = Absence of Disease, 1 = Presence of Disease)\")\n",
    "NA_summary"
   ]
  },
  {
   "cell_type": "markdown",
   "id": "3ae9566b-19b3-4ad3-b1dd-1bea0124322b",
   "metadata": {
    "tags": []
   },
   "source": [
    "**Visualization of Training Data:**\n",
    "- Create scatter plots with color-coded points based on heart disease presence.\n",
    "- Age vs. Serum Cholesterol (Figure 1)\n",
    "- Age vs. Resting Blood Pressure (Figure 2)\n",
    "- Serum Cholesterol vs. Resting Blood Pressure (Figure 3)\n"
   ]
  },
  {
   "cell_type": "code",
   "execution_count": null,
   "id": "63cbd991-8e51-49be-a96c-6b7759d55558",
   "metadata": {
    "tags": []
   },
   "outputs": [],
   "source": [
    "#visualising training data\n",
    "options(repr.plot.width = 9, repr.plot.height = 5) \n",
    "\n",
    "\n",
    "# Visualizing Age vs. Serum Cholesterol\n",
    "age_vs_cholesterol <- heart_train |>\n",
    "    ggplot(aes(x = age, y = chol, color = num_predicted)) +\n",
    "    geom_point(alpha = 0.5) +\n",
    "    labs(x = \"Age (years)\", y = \"Serum cholesterol (mg/dl)\", color = \"Presence/absense of heart disease\") +\n",
    "    ggtitle(\"Age vs. Serum Cholesterol\") +\n",
    "    theme(text = element_text(size=15))\n",
    "age_vs_cholesterol\n",
    "print(\"Figure 1. Scatter Plot of Predictors Age vs. Serum Cholesterol. Presence and absense of disease are color coded\")\n",
    "\n",
    "# Visualizing Age vs. Resting Blood Pressure\n",
    "age_vs_trestbps <- heart_train |>\n",
    "    ggplot(aes(x = age, y = trestbps, color = num_predicted)) +\n",
    "    geom_point() +\n",
    "    labs(x = \"Age (years)\", y = \"Resting blood pressure (mm Hg)\", color = \"Presence/absense of heart disease\") +\n",
    "    ggtitle(\"Age vs. Resting Blood Pressure\") +\n",
    "    theme(text = element_text(size=15))\n",
    "age_vs_trestbps\n",
    "print(\"Figure 2. Scatter Plot of Predictors Age vs. Resting Blood Pressure. Presence and absense of disease are color coded\")\n",
    "\n",
    "# Visualizing Serum Cholesterol (mg/dl) vs. Resting Blood Pressure\n",
    "chol_vs_trestbps <- heart_train |>\n",
    "    ggplot(aes(x = chol, y = trestbps, color = num_predicted)) +\n",
    "    geom_point(alpha = 0.5) +\n",
    "    labs(x = \"Serum cholesterol (mg/dl)\", y = \"Resting blood pressure (mm Hg)\", color = \"Presence/absense of heart disease\") +\n",
    "    ggtitle(\"Serum Cholesterol (mg/dl) vs. Resting Blood Pressure\") +\n",
    "    theme(text = element_text(size=15))\n",
    "chol_vs_trestbps\n",
    "print(\"Figure 3. Scatter Plot of Predictors Serum Cholesterol vs. Resting Blood Pressure.\")\n",
    "print(\"          Presence and absence of disease are color coded\")\n"
   ]
  },
  {
   "cell_type": "markdown",
   "id": "1478f871-5e8d-482a-8582-c5ae74572628",
   "metadata": {
    "tags": []
   },
   "source": [
    "**K-Selection for k-NN Model:**\n",
    "- Create a recipe for feature scaling and centering.\n",
    "- Define a k-NN model specification with tuning parameters.\n",
    "- Employ 10-fold cross-validation with stratification.\n",
    "- Specify k values from 1 to 30.\n",
    "- Develop a workflow integrating the recipe and model.\n",
    "- Tune hyperparameters, filter for accuracy metric, and visualize k-selection.\n"
   ]
  },
  {
   "cell_type": "code",
   "execution_count": null,
   "id": "699a2a48-c798-4b94-bc64-c07be69c9597",
   "metadata": {
    "tags": []
   },
   "outputs": [],
   "source": [
    "#Data analysis (Model)\n",
    "\n",
    "#recipe:\n",
    "heart_recipe <- recipe(num_predicted ~ age + chol + trestbps, data = heart_train) |>\n",
    "    step_scale(all_predictors()) |>\n",
    "    step_center(all_predictors())\n",
    "\n",
    "#Selecting K:\n",
    "knn_spec <- nearest_neighbor(weight_func = \"rectangular\", neighbors = tune()) |>\n",
    "      set_engine(\"kknn\") |>\n",
    "      set_mode(\"classification\")\n",
    "\n",
    "set.seed(444)\n",
    "heart_vfold <- vfold_cv(heart_train, v = 10, strata = num_predicted)\n",
    "k_vals <- tibble(neighbors = seq(from = 1, to = 30))\n",
    "\n",
    "workflow_for_k_selection <- workflow() |>\n",
    "    add_recipe(heart_recipe) |>\n",
    "    add_model(knn_spec) |>\n",
    "    tune_grid(resamples = heart_vfold, grid = k_vals) |>\n",
    "    collect_metrics() |>\n",
    "    filter(.metric == \"accuracy\")\n",
    "print(\"Table 4. Accuracy of The Classifier Across 10 folds Using K values from 1 to 30\") \n",
    "workflow_for_k_selection\n",
    "\n",
    "k_plot <- ggplot(workflow_for_k_selection, aes(x = neighbors, y = mean)) +\n",
    "    geom_point() +\n",
    "    geom_line() +\n",
    "    labs(x = \"Neighbors (K)\", y = \"Accuracy estimate (mean)\") +\n",
    "    ggtitle(\"Neighbors vs. Estimated Accuracy of Model\") +\n",
    "    theme(text = element_text(size=15))\n",
    "print(\"Figure 4. Estimated Accuracy Plot For the CLassifier Based on K values 1 to 30\") \n",
    "print(\"          Highest accuracy (~65.2%) resulted from K = 17 and 18\")\n",
    "k_plot\n"
   ]
  },
  {
   "cell_type": "markdown",
   "id": "635a5b7b-9d82-473c-b364-8d3b4db1ffc1",
   "metadata": {
    "tags": []
   },
   "source": [
    "**Heart Disease Classification Model:**\n",
    "- Define a k-NN model specification with a fixed neighbor value (k = 18).\n",
    "- Construct a workflow incorporating the recipe and the specified model.\n",
    "- Fit the model to the training data.\n"
   ]
  },
  {
   "cell_type": "code",
   "execution_count": null,
   "id": "79ff8c50-b35c-4b6c-9667-9a6e66ec6044",
   "metadata": {},
   "outputs": [],
   "source": [
    "#Heart disease classification model: \n",
    "heart_spec <- nearest_neighbor(weight_func = \"rectangular\", neighbors = 18) |>\n",
    "      set_engine(\"kknn\") |>\n",
    "      set_mode(\"classification\")\n",
    "\n",
    "heart_workflow <- workflow() |>\n",
    "    add_recipe(heart_recipe) |>\n",
    "    add_model(heart_spec) |>\n",
    "    fit(data = heart_train)"
   ]
  },
  {
   "cell_type": "markdown",
   "id": "488ebe46-41d3-4bd2-8390-33a659ef25ae",
   "metadata": {
    "tags": []
   },
   "source": [
    "**Model Testing:**\n",
    "- Evaluate the trained model using the testing dataset.\n",
    "- Generate predictions and combine them with the original testing dataset.\n",
    "- Assess model accuracy and construct a confusion matrix.\n",
    "- Summarize accuracy in Table 5 and display the confusion matrix in Table 6.\n"
   ]
  },
  {
   "cell_type": "code",
   "execution_count": null,
   "id": "dfba2344-5b9c-49d3-8c30-4a24c7719c47",
   "metadata": {
    "tags": []
   },
   "outputs": [],
   "source": [
    "#Testing model with testing data:\n",
    "heart_model_test <- predict(heart_workflow, heart_test) |>\n",
    "    bind_cols(heart_test)\n",
    "\n",
    "heart_model_accuracy <- heart_model_test |>\n",
    "    metrics(truth = num_predicted, estimate = .pred_class) |>\n",
    "        filter(.metric == \"accuracy\")\n",
    "print(\"Table 5. Estimated Accuracy of The Classifier Based on The Testing Data Set\")\n",
    "heart_model_accuracy \n",
    "\n",
    "heart_model_mat <- heart_model_test |>\n",
    "    conf_mat(truth = num_predicted, estimate = .pred_class)\n",
    "print(\"Table 6. Confusion matrix Based on The Testing Data Set Where Truth = Actual Class of The Test Set\")\n",
    "print(\"         and Prediction = Predicted Class of The Test Set\")\n",
    "heart_model_mat \n",
    "\n",
    "#accuracy is ~65%"
   ]
  },
  {
   "cell_type": "markdown",
   "id": "33eff429-1149-447d-86db-04974abd3de0",
   "metadata": {},
   "source": [
    "### **Methods**\n",
    "\n",
    "We utilized the \"processed.hungary.data\" from the Heart Disease Database. Our predictive variables include age (years), chol (serum cholesterol in mg/dL), and trestbps (resting blood pressure in mmHg) to predict if heart disease is present (1) or absent (0) in Hungarian patients. We imported the dataset into a Jupyter Notebook from the website and conducted data preprocessing to filter the relevant variables, handle missing data, and adjust data types. A 75% training and 25% testing data split was performed. Preliminary exploratory analysis included summary statistics and visualization using scatter plots: Age vs. Serum Cholesterol, Age vs. Resting Blood Pressure, and Serum Cholesterol vs. Resting Blood Pressure.\n",
    "\n",
    "Then we need to find the ideal \"k\" value for k-nearest neighbors, maximizing prediction accuracy through the recipe function, cross-validation, the k-nearest neighbor algorithm, and a workflow on our training data. Then, we will predict our category (1 or 0) using our model and the testing data, and analyze our findings in a report. \n",
    "\n",
    "We plan to create a scatterplot to assess potential overfitting or underfitting. We will color code the graph's background based on the model's predictions. We will repeat this for all of our variables (age vs. blood pressure, age vs. cholesterol, cholesterol vs. blood pressure). By comparing the graphs, we can determine which variables are more accurate in predicting the presence of heart disease, and the strengths and limitations of our model. \n"
   ]
  },
  {
   "cell_type": "markdown",
   "id": "d5f1859b-d6c8-4425-a96d-a0c6ac240158",
   "metadata": {},
   "source": [
    "### **Expected outcomes and significance**\n",
    "From this data analysis of heart disease in Hungary, conclusions can be drawn as to how likely a person will be diagnosed with heart disease based on their resting blood pressure, serum cholesterol levels, and age. We expect to find a positive relationship between our predictor values (blood pressure, cholesterol levels, age) and the presence of heart disease, and a relatively accurate prediction using this classification model. \n",
    "\n",
    "These findings can help doctors in Hungary accurately diagnose heart disease patients without using invasive procedures. Also doctors can start to place a higher emphasis on more related parameters during symptom check-ups using the conclusion from this study. Focusing on region-specific data (Hungary) can help doctors benefit the health of the populations they treat.\n",
    "\n",
    "Our analysis can prompt the exploration of new questions. For example, how can we use this data to diagnose specific heart conditions (i.e. atherosclerosis, angina, coronary heart disease, etc.) rather than just the general presence of a disease? Are other factors more accurate in a heart disease diagnosis than the ones we are identifying? More specific research questions can be pursued as a result of this analysis. \n"
   ]
  },
  {
   "cell_type": "markdown",
   "id": "115f4278-2b6e-4958-aa21-ae9481b7c3e2",
   "metadata": {},
   "source": [
    "##### **References**:\n",
    "Detrano, Robert C. et al. “International application of a new probability algorithm for the diagnosis of coronary artery disease.” The American journal of cardiology 64 5 (1989): 304-10 ."
   ]
  },
  {
   "cell_type": "code",
   "execution_count": null,
   "id": "5d34c9f2-40ca-4cdd-bd35-d30cd00e472b",
   "metadata": {},
   "outputs": [],
   "source": []
  },
  {
   "cell_type": "code",
   "execution_count": null,
   "id": "6ceac696-b7b8-4e6c-bd90-ecb09110dc1f",
   "metadata": {},
   "outputs": [],
   "source": []
  }
 ],
 "metadata": {
  "kernelspec": {
   "display_name": "R",
   "language": "R",
   "name": "ir"
  },
  "language_info": {
   "codemirror_mode": "r",
   "file_extension": ".r",
   "mimetype": "text/x-r-source",
   "name": "R",
   "pygments_lexer": "r",
   "version": "4.2.2"
  }
 },
 "nbformat": 4,
 "nbformat_minor": 5
}
