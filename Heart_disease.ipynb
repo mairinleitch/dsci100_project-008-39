{
 "cells": [
  {
   "cell_type": "markdown",
   "id": "a4e7d3cd-5e82-40b1-8de5-e139abb44a53",
   "metadata": {},
   "source": [
    "## **Diagnosis of Presence of Heart Disease Based on Age, Cholesterol, And Resting Blood Pressure**"
   ]
  },
  {
   "cell_type": "markdown",
   "id": "e141f33e-99b6-4aab-94de-a5d4c50157e3",
   "metadata": {
    "tags": []
   },
   "source": [
    "**Names:** Srijan Sanghera, Sharon Feng, Annie Wang, Mairin Leitch"
   ]
  },
  {
   "cell_type": "markdown",
   "id": "8d4d6f9c-9c73-44ea-936b-5ca49f3a1e1f",
   "metadata": {},
   "source": [
    "### **Introduction**\n",
    "Coronary artery disease (CAD) poses a significant health challenge, marked by the narrowing of coronary arteries, necessitating precise diagnostic tools for timely intervention and treatment (Detrano, et al.,1989). Traditionally, invasive procedures like angiography have been employed for diagnosis, but they come with inherent risks such as arterial injury, stroke, and radiation exposure (Mayo Clinic, 2021). Recognizing the imperative for safer alternatives, there is an increasing interest in non-invasive diagnostic methods that leverage patient demographics and basic clinical information for CAD diagnosis. This data analysis aims to address this need by evaluating the diagnosis of the presence of heart disease using essential parameters: age, cholesterol levels, and resting blood pressure based on the database from the Hungarian Institute of Cardiology. <br> \n",
    "\n",
    "**Research Question:** Will the new patient have heart disease or not based on their age, cholesterol, and resting blood pressure?\n",
    "\n",
    "The dataset used for this report comes from the Hungarian Institute of Cardiology in Budapest. The data consists solely of numerical values. A total of 76 columns of data exist, but only 14 columns are used in the given data tables (Detrano et al., 1989). The 14 available columns are titled ‘age’, ‘sex’, ‘cp’, ‘trestbps’,  ‘chol’, ‘fbs’, ‘restecg’ , ‘thalach’, ‘exang’, ‘oldpeak’, ‘slope’, ‘ca’, ‘thal’, and ‘num’ (Detrano et al., 1989). \n",
    "\n",
    "\n",
    "<u>Column explanations</u> (TA Kevin Wang confirmed it won’t be included in the word count):\n",
    "1. ‘Age’ represents the patient’s age in years.\n",
    "2. ‘Sex’ represents the patient’s biological sex, where the number 1 indicates ‘male’ and 0 indicates ‘female’.\n",
    "3. ‘Cp’ represents the chest pain type, where the value 1 indicates typical angina, 2 indicates atypical angina, 3 indicates non-anginal pain, and 4 indicates an asymptomatic response.\n",
    "4. ‘Tresbps’ represents the patient’s resting blood pressure in mm/Hg upon admission to the hospital.\n",
    "5. ‘Chol’ represents serum cholesterol levels in mg/dL.\n",
    "6. ‘Fbs’ represents the patient’s fasting blood sugar. For fasting blood sugar, the values are either 1 or 0. The patient’s fasting blood sugar is indicated as a 1 when it is above 120 mg/dL, and it is indicated as a 0 when it is below 120 mg/dL.\n",
    "7. ‘Restecg’ represents the patient’s electrocardiographic results. The value 0 indicates normal results, 1 indicates abnormal ST-T waves in a cardiogram, and 2 indicates likely or certain left ventricular hypertrophy, which is increased muscle mass in the left ventricle of the heart. \n",
    "8. ‘Thalach’ represents the maximum heart rate a patient has reached.\n",
    "9.  ‘Exang’ indicates if the patient has exercise-induced angina (1 means yes, 0 means no).\n",
    "10.  ‘Oldpeak’ represents the dip in the ST cardiogram wave during an exercise state compared to a resting state.\n",
    "11. ‘Slope’ represents the slope of the ST wave during exercise (1 means a positive slope, 2 means a flat slope, and 3 means a negative slope).\n",
    "12. ‘Ca’ represents the number of major blood vessels coloured through fluoroscopy (can be a value from 0-3).\n",
    "13. ‘Thal’ represents the overall state of the patient’s cardiovascular system. A normal state is represented by the value 3, the value 6 indicates a defect that can’t be reversed, and 7 indicates a reversible defect.\n",
    "14. ‘Num’ indicates the presence of heart disease; where 1 indicates the presence of heart disease, and 0 indicates no heart disease. For this classification problem, this is the variable we want to predict (Detrano et al., 1989). \n",
    "\n",
    "To predict the presence of heart disease (‘num’), ‘age’, ‘chol’, and ‘trestbps’ were selected as the predictor variables for this classification problem. Age was selected as a predictor variable, as risk of coronary heart disease (CHD) and other chronic illnesses increase with age (Benfante et al., 1989). Therefore, it is more likely for someone in their middle ages or elder years to be diagnosed with heart disease (Benfante et al., 1989). Additionally, ‘chol’ was selected, as increased levels of low density lipoprotein (LDL), or ‘bad’ cholesterol, in the blood accelerates the risk of a CHD diagnosis and atherosclerosis, which is the clogging and narrowing of arteries (Sharett et al., 2001). Lastly, ‘trestbps’ was selected, as sustained systolic blood pressure above 140 mm/Hg increases risk of heart disease and stroke (Bowling et al., 2019). Furthermore, older age, higher cholesterol levels, and higher blood pressure are strong predictors for the presence of heart disease. We hypothesize that these predictors will produce clear and accurate results when determining if a patient has heart disease or not. "
   ]
  },
  {
   "cell_type": "markdown",
   "id": "e6b0f889-06f6-4cb3-86f2-951078983eac",
   "metadata": {},
   "source": [
    "### **Method and Exploratory Analysis**"
   ]
  },
  {
   "cell_type": "markdown",
   "id": "216098b1-8aab-4105-a596-ac42d1652676",
   "metadata": {
    "tags": []
   },
   "source": [
    "**Importing libraries:**\n",
    "- Used library() to install tidyverse, tidymodels, and repr packages.\n",
    "- Used install.packages() to install “kknn” and “yardstick”. \n"
   ]
  },
  {
   "cell_type": "code",
   "execution_count": null,
   "id": "7ff656db-feae-4091-9c57-ed8827acef1c",
   "metadata": {
    "tags": []
   },
   "outputs": [],
   "source": [
    "#import packages:\n",
    "library(tidyverse) \n",
    "library(tidymodels)\n",
    "library(repr)\n",
    "install.packages(\"kknn\")"
   ]
  },
  {
   "cell_type": "markdown",
   "id": "e21a8fd9-b0fe-478b-8041-40ebae668351",
   "metadata": {
    "tags": []
   },
   "source": [
    "**Wrangling Data:**\n",
    "- Loaded and renamed columns of the \"processed.hungary.data\" dataset.\n",
    "- Cleaned and wrangled data: select predictive variables, filter out missing data, and correct data types.\n",
    "- Splitted data into training (75%) and testing (25%) sets.\n",
    "\n"
   ]
  },
  {
   "cell_type": "code",
   "execution_count": null,
   "id": "e23b763e",
   "metadata": {
    "tags": []
   },
   "outputs": [],
   "source": [
    "#loading data in:\n",
    "URL <- \"https://archive.ics.uci.edu/ml/machine-learning-databases/heart-disease/processed.hungarian.data\"\n",
    "heart <- read_delim(URL, delim = \",\", col_names = FALSE) |>\n",
    "        rename(age = X1, sex = X2, cp = X3, trestbps = X4, chol = X5, fbs = X6, restecg = X7, thalach = X8, exang = X9,\n",
    "               oldpeak = X10, slope = X11, ca = X12, thal = X13, num_predicted = X14)\n",
    "\n",
    "#Cleaning and wrangling data:\n",
    "heart_data <- heart |>\n",
    "    select(age, chol, trestbps, num_predicted) |>\n",
    "    filter(chol != \"?\", trestbps != \"?\") |>\n",
    "    mutate(num_predicted = as.factor(num_predicted),\n",
    "           num_predicted = fct_recode(num_predicted, \"present\" = \"1\", \"absent\" = \"0\"),\n",
    "           chol = as.numeric(chol),\n",
    "           trestbps = as.numeric(trestbps))\n",
    "print(\"Table 1. Heart Disease Predictors and Class of Interest\")\n",
    "\n",
    "head(heart_data)\n",
    "#split data into training and testing: \n",
    "set.seed(1111) \n",
    "heart_split <- initial_split(heart_data, prop = 0.75, strata = num_predicted)\n",
    "heart_train <- training(heart_split)\n",
    "heart_test <- testing(heart_split)\n"
   ]
  },
  {
   "cell_type": "markdown",
   "id": "941f2932-b113-4cd8-af8f-64ed014ce307",
   "metadata": {
    "tags": []
   },
   "source": [
    "**Preliminary Exploratory Analysis (summary):**\n",
    "- Use dplyr to summarize training data based on disease presence or absence.\n",
    "- Compute counts and descriptive statistics for age, cholesterol, and blood pressure.\n",
    "- Handle missing data: calculate and display the number of removed missing values.\n"
   ]
  },
  {
   "cell_type": "code",
   "execution_count": null,
   "id": "7dc87acb-2617-482c-aac3-514e2d3c4117",
   "metadata": {
    "tags": []
   },
   "outputs": [],
   "source": [
    "#Summarize:\n",
    "disease_vs_healthy <- heart_train |>\n",
    "    group_by(num_predicted) |>\n",
    "    summarize(count = n(), \n",
    "              min_age = min(age), max_age = max(age), mean_age = mean(age),\n",
    "              min_chol = min(chol), max_chol = max(chol), mean_chol = mean(chol),\n",
    "              min_trestbsp = min(trestbps), max_trestbps = max(trestbps), mean_trestbps = mean(trestbps))\n",
    "print(\"Table 2. Summary of the Training Data Based on Absence or Presence of Disease\")\n",
    "disease_vs_healthy\n",
    "\n",
    "NA_summary <- heart |>\n",
    "    group_by(num_predicted) |>\n",
    "    summarize(total_age_NA_deleted = sum(age == \"?\"),\n",
    "              total_chol_NA_deleted = sum(chol == \"?\"),\n",
    "              total_trestbps_NA_deleted = sum(trestbps == \"?\"))\n",
    "print(\"Table 3. Total Number of NA's Removed From Each Predictor Column (0 = Absence of Disease, 1 = Presence of Disease)\")\n",
    "NA_summary"
   ]
  },
  {
   "cell_type": "markdown",
   "id": "3ae9566b-19b3-4ad3-b1dd-1bea0124322b",
   "metadata": {
    "tags": []
   },
   "source": [
    "**Visualization of Training Data:**\n",
    "- Create scatter plots with color-coded points based on heart disease presence.\n",
    "- Age vs. Serum Cholesterol (Figure 1)\n",
    "- Age vs. Resting Blood Pressure (Figure 2)\n",
    "- Serum Cholesterol vs. Resting Blood Pressure (Figure 3)\n"
   ]
  },
  {
   "cell_type": "code",
   "execution_count": null,
   "id": "63cbd991-8e51-49be-a96c-6b7759d55558",
   "metadata": {
    "tags": []
   },
   "outputs": [],
   "source": [
    "#visualising training data\n",
    "options(repr.plot.width = 9, repr.plot.height = 5) \n",
    "\n",
    "\n",
    "# Visualizing Age vs. Serum Cholesterol\n",
    "age_vs_cholesterol <- heart_train |>\n",
    "    ggplot(aes(x = age, y = chol, color = num_predicted)) +\n",
    "    geom_point(alpha = 0.5) +\n",
    "    labs(x = \"Age (years)\", y = \"Serum cholesterol (mg/dl)\", color = \"Presence/absense of heart disease\") +\n",
    "    ggtitle(\"Age vs. Serum Cholesterol\") +\n",
    "    theme(text = element_text(size=15))\n",
    "age_vs_cholesterol\n",
    "print(\"Figure 1. Scatter Plot of Predictors Age vs. Serum Cholesterol. Presence and absense of disease are color coded\")\n",
    "\n",
    "# Visualizing Age vs. Resting Blood Pressure\n",
    "age_vs_trestbps <- heart_train |>\n",
    "    ggplot(aes(x = age, y = trestbps, color = num_predicted)) +\n",
    "    geom_point() +\n",
    "    labs(x = \"Age (years)\", y = \"Resting blood pressure (mm Hg)\", color = \"Presence/absense of heart disease\") +\n",
    "    ggtitle(\"Age vs. Resting Blood Pressure\") +\n",
    "    theme(text = element_text(size=15))\n",
    "age_vs_trestbps\n",
    "print(\"Figure 2. Scatter Plot of Predictors Age vs. Resting Blood Pressure. Presence and absense of disease are color coded\")\n",
    "\n",
    "# Visualizing Serum Cholesterol (mg/dl) vs. Resting Blood Pressure\n",
    "chol_vs_trestbps <- heart_train |>\n",
    "    ggplot(aes(x = chol, y = trestbps, color = num_predicted)) +\n",
    "    geom_point(alpha = 0.5) +\n",
    "    labs(x = \"Serum cholesterol (mg/dl)\", y = \"Resting blood pressure (mm Hg)\", color = \"Presence/absense of heart disease\") +\n",
    "    ggtitle(\"Serum Cholesterol (mg/dl) vs. Resting Blood Pressure\") +\n",
    "    theme(text = element_text(size=15))\n",
    "chol_vs_trestbps\n",
    "print(\"Figure 3. Scatter Plot of Predictors Serum Cholesterol vs. Resting Blood Pressure.\")\n",
    "print(\"          Presence and absence of disease are color coded\")\n"
   ]
  },
  {
   "cell_type": "markdown",
   "id": "1478f871-5e8d-482a-8582-c5ae74572628",
   "metadata": {
    "tags": []
   },
   "source": [
    "**K-Selection for k-NN Model:**\n",
    "- Create a recipe for feature scaling and centering.\n",
    "- Define a k-NN model specification with tuning parameters.\n",
    "- Employ 10-fold cross-validation with stratification.\n",
    "- Specify k values from 1 to 30.\n",
    "- Develop a workflow integrating the recipe and model.\n",
    "- Tune hyperparameters, filter for accuracy metric, and visualize k-selection.\n"
   ]
  },
  {
   "cell_type": "code",
   "execution_count": null,
   "id": "699a2a48-c798-4b94-bc64-c07be69c9597",
   "metadata": {
    "tags": []
   },
   "outputs": [],
   "source": [
    "#Data analysis (Model)\n",
    "\n",
    "#recipe:\n",
    "heart_recipe <- recipe(num_predicted ~ age + chol + trestbps, data = heart_train) |>\n",
    "    step_scale(all_predictors()) |>\n",
    "    step_center(all_predictors())\n",
    "\n",
    "#Selecting K:\n",
    "knn_spec <- nearest_neighbor(weight_func = \"rectangular\", neighbors = tune()) |>\n",
    "      set_engine(\"kknn\") |>\n",
    "      set_mode(\"classification\")\n",
    "\n",
    "set.seed(444)\n",
    "heart_vfold <- vfold_cv(heart_train, v = 10, strata = num_predicted)\n",
    "k_vals <- tibble(neighbors = seq(from = 1, to = 30))\n",
    "\n",
    "workflow_for_k_selection <- workflow() |>\n",
    "    add_recipe(heart_recipe) |>\n",
    "    add_model(knn_spec) |>\n",
    "    tune_grid(resamples = heart_vfold, grid = k_vals) |>\n",
    "    collect_metrics() |>\n",
    "    filter(.metric == \"accuracy\")\n",
    "print(\"Table 4. Accuracy of The Classifier Across 10 folds Using K values from 1 to 30\") \n",
    "workflow_for_k_selection\n",
    "\n",
    "k_plot <- ggplot(workflow_for_k_selection, aes(x = neighbors, y = mean)) +\n",
    "    geom_point() +\n",
    "    geom_line() +\n",
    "    labs(x = \"Neighbors (K)\", y = \"Accuracy estimate (mean)\") +\n",
    "    ggtitle(\"Neighbors vs. Estimated Accuracy of Model\") +\n",
    "    theme(text = element_text(size=15))\n",
    "print(\"Figure 4. Estimated Accuracy Plot For the CLassifier Based on K values 1 to 30\") \n",
    "print(\"          Highest accuracy (~65.2%) resulted from K = 17 and 18\")\n",
    "k_plot\n"
   ]
  },
  {
   "cell_type": "markdown",
   "id": "635a5b7b-9d82-473c-b364-8d3b4db1ffc1",
   "metadata": {
    "tags": []
   },
   "source": [
    "**Heart Disease Classification Model:**\n",
    "- Define a k-NN model specification with a fixed neighbor value (k = 18).\n",
    "- Construct a workflow incorporating the recipe and the specified model.\n",
    "- Fit the model to the training data.\n"
   ]
  },
  {
   "cell_type": "code",
   "execution_count": null,
   "id": "79ff8c50-b35c-4b6c-9667-9a6e66ec6044",
   "metadata": {},
   "outputs": [],
   "source": [
    "#Heart disease classification model: \n",
    "heart_spec <- nearest_neighbor(weight_func = \"rectangular\", neighbors = 18) |>\n",
    "      set_engine(\"kknn\") |>\n",
    "      set_mode(\"classification\")\n",
    "\n",
    "heart_workflow <- workflow() |>\n",
    "    add_recipe(heart_recipe) |>\n",
    "    add_model(heart_spec) |>\n",
    "    fit(data = heart_train)"
   ]
  },
  {
   "cell_type": "markdown",
   "id": "488ebe46-41d3-4bd2-8390-33a659ef25ae",
   "metadata": {
    "tags": []
   },
   "source": [
    "**Model Testing:**\n",
    "- Evaluate the trained model using the testing dataset.\n",
    "- Generate predictions and combine them with the original testing dataset.\n",
    "- Assess model accuracy and construct a confusion matrix.\n",
    "- Summarize accuracy in Table 5 and display the confusion matrix in Table 6.\n"
   ]
  },
  {
   "cell_type": "code",
   "execution_count": null,
   "id": "dfba2344-5b9c-49d3-8c30-4a24c7719c47",
   "metadata": {
    "tags": []
   },
   "outputs": [],
   "source": [
    "#Testing model with testing data:\n",
    "heart_model_test <- predict(heart_workflow, heart_test) |>\n",
    "    bind_cols(heart_test)\n",
    "\n",
    "heart_model_accuracy <- heart_model_test |>\n",
    "    metrics(truth = num_predicted, estimate = .pred_class) |>\n",
    "        filter(.metric == \"accuracy\")\n",
    "print(\"Table 5. Estimated Accuracy of The Classifier Based on The Testing Data Set\")\n",
    "heart_model_accuracy \n",
    "\n",
    "heart_model_mat <- heart_model_test |>\n",
    "    conf_mat(truth = num_predicted, estimate = .pred_class)\n",
    "print(\"Table 6. Confusion matrix Based on The Testing Data Set Where Truth = Actual Class of The Test Set\")\n",
    "print(\"         and Prediction = Predicted Class of The Test Set\")\n",
    "heart_model_mat \n",
    "\n",
    "#accuracy is ~65%"
   ]
  },
  {
   "cell_type": "markdown",
   "id": "acb52de5-25e4-4dff-8aeb-d6cb0e3caa9e",
   "metadata": {
    "tags": []
   },
   "source": [
    "### **Discussion**"
   ]
  },
  {
   "cell_type": "markdown",
   "id": "717ede9a-f23f-4025-8893-64d7aa076faa",
   "metadata": {
    "tags": []
   },
   "source": [
    "**Summary** <br>\n",
    "We created a predictive model using K-Nearest Neighbors (KNN) classification of factors - age, cholesterol and resting blood pressure to predict whether a patient has a heart disease diagnosis. Our model had an accuracy of 65.2%, indicating that there is a favourable amount of correlation between the predictors and the patient having a heart disease."
   ]
  },
  {
   "cell_type": "markdown",
   "id": "1aa95427-42ce-4c8e-a1df-fff4d507761f",
   "metadata": {},
   "source": [
    "**Findings and Expected Findings** <br>\n",
    "Based on the initial scatterplots of our predictor variables, we expected to find a positive relationship between our predictor values (blood pressure, cholesterol levels, age) and the presence of heart disease.​ As per the introduction, the chosen factors were known to cause heart disease based on peer-reviewed literature. As referenced in the introduction, we expected cholesterol and the presence of heart disease to be positively correlated. Where there is a causal relationship between both, academic research also indicates the same. Our model’s accuracy of 65.2% suggests similar results, however, it is not precise. Models that predict crucial things like the diagnosis of heart disease need to be very accurate because a misdiagnosis can be fatal. Therefore, the model isn't ideal to be implemented right now. This can be attributed to the lack of usable data in the dataset. A lot of the values had to be removed because it was missing or unreliable. Hence, the accuracy of the model can be improved if more data can be procured or if the region for the study is expanded. We can also improve the model by prioritizing recall, which puts emphasis on correct true positives and minimises false negatives. Our predictions were in line with our expectations that a high degree of serum cholesterol, high blood pressure and the patient being relatively old contributes to the patient being more likely to be diagnosed with a hard disease."
   ]
  },
  {
   "cell_type": "markdown",
   "id": "8b8d39d3-fcdd-4912-a16a-0da2d958f6cf",
   "metadata": {},
   "source": [
    "**Impact of the Findings** <br>\n",
    "Understanding the relationship between the presence of heart disease and Age, Cholesterol, and Resting Blood Pressure would play a crucial role in helping in diagnosing a patient. A classification model to predict heart disease can help doctors in the early detection of heart disease in patients. This model takes into account various indicators that are generally known to cause heart disease. Therefore, while using this model, doctors can advise changes in lifestyle for at-risk patients. Since having high accuracy is important in making such diagnoses, our model should be used as a supplementary tool to make a diagnosis. Doctors may not completely rely on the model to make their decision as the accuracy is not high enough for this task, but they can consider the results from this model while making a diagnosis. To make the model more accurate, individual factors could be weighted depending on how likely someone is to get a heart disease based on that factor."
   ]
  },
  {
   "cell_type": "markdown",
   "id": "d2e55509-aaf3-4018-ab39-5a7d7478ca33",
   "metadata": {},
   "source": [
    "**Future Questions**\n",
    "Based on our results and the impact of our findings, the questions listed below can provide new avenues of research for this topic. \n",
    "- Which factors contribute more towards a patient being diagnosed with a heart disease?\n",
    "- Can the model be used to predict specific heart conditions instead of just predicting the presence of heart disease?\n",
    "- Does the model work for a larger population than that of Hungary’s?\n",
    "- What differences exist between populations of different regions in terms of lifestyle and health?\n"
   ]
  },
  {
   "cell_type": "markdown",
   "id": "04314919-5ed8-4322-8e8c-d11daa71c823",
   "metadata": {
    "tags": []
   },
   "source": [
    "### **References**"
   ]
  },
  {
   "cell_type": "markdown",
   "id": "115f4278-2b6e-4958-aa21-ae9481b7c3e2",
   "metadata": {
    "jp-MarkdownHeadingCollapsed": true,
    "tags": []
   },
   "source": [
    "Benfante, R. J., Reed, D. M., MacLean, C. J., & Yano, K. (1989). Risk factors in middle age that predict early and late onset of coronary heart disease. Journal of Critical Epidemiology, 42(2), 95-104. https://doi.org/10.1016/0895-4356(89)90082-6\n",
    "\n",
    "Bowling, C. B., Davis, B. R., Luciano, A., Simpson, L. M., Sloane, R., Peiper, C. F., Einhorn, P. T., Oparil, S., & Muntner, P. (2019). Sustained blood pressure control and coronary heart disease, stroke, heart failure, and mortality: An observational analysis of ALLHAT. The Journal of Critical Hypertension, 21(4), 451-459. https://doi.org/10.1111/jch.13515\n",
    "\n",
    "Detrano, R., Janosi. A., Steinbrunn, W., Pfisterer, M., Schmid, J., Sandhu, S., Guppy, K., Lee, S., & Froelicher, V. (1989). International application of a new probability algorithm for the diagnosis of coronary artery disease. The American Journal of Cardiology, 64(5), 304-310.  \n",
    "\n",
    "Mayo Clinic. (2021, December 14). Coronary angiogram. Mayo Clinic. https://www.mayoclinic.org/tests-procedures/coronary-angiogram/about/pac-20384904\n",
    "\n",
    "Sharett, A. R., Ballantyne, C. M., Coady, S. A., Heiss, G., Sorlie, P. D., Catellier, D., & Patsch, W. (2001). Coronary heart disease prediction from lipoprotein cholesterol levels, triglycerides, lipoprotein(a), apolipoproteins A-I and B, and HDL density subfractions: The atherosclerosis risk in communities (ARIC) study. Circulation, 104(10), 1108-1113. https://oce.ovid.com/article/00003017-200109040-00009/HTML"
   ]
  }
 ],
 "metadata": {
  "kernelspec": {
   "display_name": "R",
   "language": "R",
   "name": "ir"
  },
  "language_info": {
   "codemirror_mode": "r",
   "file_extension": ".r",
   "mimetype": "text/x-r-source",
   "name": "R",
   "pygments_lexer": "r",
   "version": "4.2.2"
  }
 },
 "nbformat": 4,
 "nbformat_minor": 5
}
